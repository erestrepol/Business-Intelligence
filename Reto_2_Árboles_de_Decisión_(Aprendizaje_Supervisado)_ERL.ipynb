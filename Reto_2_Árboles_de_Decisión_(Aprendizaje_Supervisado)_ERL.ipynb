{
  "nbformat": 4,
  "nbformat_minor": 0,
  "metadata": {
    "colab": {
      "provenance": [],
      "mount_file_id": "1DNO-P88x4FuLZnqL7cBsFG11z323uauE",
      "authorship_tag": "ABX9TyMdTgaOcG0jpHxwcDRmkIo4",
      "include_colab_link": true
    },
    "kernelspec": {
      "name": "python3",
      "display_name": "Python 3"
    },
    "language_info": {
      "name": "python"
    }
  },
  "cells": [
    {
      "cell_type": "markdown",
      "metadata": {
        "id": "view-in-github",
        "colab_type": "text"
      },
      "source": [
        "<a href=\"https://colab.research.google.com/github/erestrepol/Business-Intelligence/blob/main/Reto_2_%C3%81rboles_de_Decisi%C3%B3n_(Aprendizaje_Supervisado)_ERL.ipynb\" target=\"_parent\"><img src=\"https://colab.research.google.com/assets/colab-badge.svg\" alt=\"Open In Colab\"/></a>"
      ]
    },
    {
      "cell_type": "markdown",
      "source": [
        "0. Se procede con la carga de las librerías de trabajo."
      ],
      "metadata": {
        "id": "8aZVE3QF3gqo"
      }
    },
    {
      "cell_type": "code",
      "execution_count": null,
      "metadata": {
        "colab": {
          "base_uri": "https://localhost:8080/"
        },
        "id": "vIg2FePghhxV",
        "outputId": "9e7fca88-d695-44d0-d1f3-0b216d360d70"
      },
      "outputs": [
        {
          "output_type": "stream",
          "name": "stdout",
          "text": [
            "Drive already mounted at /content/drive; to attempt to forcibly remount, call drive.mount(\"/content/drive\", force_remount=True).\n"
          ]
        }
      ],
      "source": [
        "#Librerias cientificas\n",
        "import numpy as np\n",
        "import pandas as pd\n",
        "\n",
        "#Librerias Arbol\n",
        "from sklearn.tree import DecisionTreeClassifier\n",
        "from sklearn.metrics import confusion_matrix\n",
        "\n",
        " #Conectar al drive\n",
        "from google.colab import drive\n",
        "drive.mount('/content/drive')"
      ]
    },
    {
      "cell_type": "markdown",
      "source": [
        "1. Se procede con la carga de los datos"
      ],
      "metadata": {
        "id": "uDPmF2WXmJbI"
      }
    },
    {
      "cell_type": "code",
      "source": [
        "nxl='/content/drive/MyDrive/2. CollegeAdmisions_Int_M.xlsx'\n",
        "XDB= pd.read_excel(nxl,sheet_name=0) #Base AAA\n",
        "XDB.head(100)\n",
        "XDB=XDB.dropna() #Eliminar filas vacias\n",
        "XDB.head(100) #Mostrar 100 lineas del archivo\n",
        "\n",
        "#Seleccionar las variables\n",
        "XD=XDB[['Edu_Parent1', 'Edu_Parent2', 'Gender', 'White', 'Asian','HSGPA', 'SAT/ACT']]\n",
        "XD.loc[:,'Gender'] = XD['Gender'].map({'F': 0, 'M': 1})\n",
        "yd=XDB[['Admitted']]"
      ],
      "metadata": {
        "id": "I15AoBNWmK-K",
        "colab": {
          "base_uri": "https://localhost:8080/",
          "height": 424
        },
        "outputId": "99219511-7dad-4772-eac1-d2d95dbcd703"
      },
      "execution_count": null,
      "outputs": [
        {
          "output_type": "execute_result",
          "data": {
            "text/plain": [
              "       Edu_Parent1  Edu_Parent2 Gender  White  Asian  HSGPA  SAT/ACT\n",
              "6                6            6      0      1      0   4.26     1430\n",
              "28               7            6      1      1      0   3.95     1340\n",
              "46               3            6      1      1      0   4.33     1200\n",
              "61               7            7      0      1      0   4.27     1530\n",
              "65               6            7      0      0      0   4.04     1270\n",
              "...            ...          ...    ...    ...    ...    ...      ...\n",
              "17330            2            5      1      0      0   2.80     1010\n",
              "17332            7            4      1      1      0   3.04     1130\n",
              "17333            4            6      1      1      0   2.80     1210\n",
              "17334            7            6      1      0      0   3.42     1000\n",
              "17337            7            6      1      1      0   3.05     1130\n",
              "\n",
              "[1528 rows x 7 columns]"
            ],
            "text/html": [
              "\n",
              "  <div id=\"df-463fa704-4731-4891-a763-28c7827cfa0d\" class=\"colab-df-container\">\n",
              "    <div>\n",
              "<style scoped>\n",
              "    .dataframe tbody tr th:only-of-type {\n",
              "        vertical-align: middle;\n",
              "    }\n",
              "\n",
              "    .dataframe tbody tr th {\n",
              "        vertical-align: top;\n",
              "    }\n",
              "\n",
              "    .dataframe thead th {\n",
              "        text-align: right;\n",
              "    }\n",
              "</style>\n",
              "<table border=\"1\" class=\"dataframe\">\n",
              "  <thead>\n",
              "    <tr style=\"text-align: right;\">\n",
              "      <th></th>\n",
              "      <th>Edu_Parent1</th>\n",
              "      <th>Edu_Parent2</th>\n",
              "      <th>Gender</th>\n",
              "      <th>White</th>\n",
              "      <th>Asian</th>\n",
              "      <th>HSGPA</th>\n",
              "      <th>SAT/ACT</th>\n",
              "    </tr>\n",
              "  </thead>\n",
              "  <tbody>\n",
              "    <tr>\n",
              "      <th>6</th>\n",
              "      <td>6</td>\n",
              "      <td>6</td>\n",
              "      <td>0</td>\n",
              "      <td>1</td>\n",
              "      <td>0</td>\n",
              "      <td>4.26</td>\n",
              "      <td>1430</td>\n",
              "    </tr>\n",
              "    <tr>\n",
              "      <th>28</th>\n",
              "      <td>7</td>\n",
              "      <td>6</td>\n",
              "      <td>1</td>\n",
              "      <td>1</td>\n",
              "      <td>0</td>\n",
              "      <td>3.95</td>\n",
              "      <td>1340</td>\n",
              "    </tr>\n",
              "    <tr>\n",
              "      <th>46</th>\n",
              "      <td>3</td>\n",
              "      <td>6</td>\n",
              "      <td>1</td>\n",
              "      <td>1</td>\n",
              "      <td>0</td>\n",
              "      <td>4.33</td>\n",
              "      <td>1200</td>\n",
              "    </tr>\n",
              "    <tr>\n",
              "      <th>61</th>\n",
              "      <td>7</td>\n",
              "      <td>7</td>\n",
              "      <td>0</td>\n",
              "      <td>1</td>\n",
              "      <td>0</td>\n",
              "      <td>4.27</td>\n",
              "      <td>1530</td>\n",
              "    </tr>\n",
              "    <tr>\n",
              "      <th>65</th>\n",
              "      <td>6</td>\n",
              "      <td>7</td>\n",
              "      <td>0</td>\n",
              "      <td>0</td>\n",
              "      <td>0</td>\n",
              "      <td>4.04</td>\n",
              "      <td>1270</td>\n",
              "    </tr>\n",
              "    <tr>\n",
              "      <th>...</th>\n",
              "      <td>...</td>\n",
              "      <td>...</td>\n",
              "      <td>...</td>\n",
              "      <td>...</td>\n",
              "      <td>...</td>\n",
              "      <td>...</td>\n",
              "      <td>...</td>\n",
              "    </tr>\n",
              "    <tr>\n",
              "      <th>17330</th>\n",
              "      <td>2</td>\n",
              "      <td>5</td>\n",
              "      <td>1</td>\n",
              "      <td>0</td>\n",
              "      <td>0</td>\n",
              "      <td>2.80</td>\n",
              "      <td>1010</td>\n",
              "    </tr>\n",
              "    <tr>\n",
              "      <th>17332</th>\n",
              "      <td>7</td>\n",
              "      <td>4</td>\n",
              "      <td>1</td>\n",
              "      <td>1</td>\n",
              "      <td>0</td>\n",
              "      <td>3.04</td>\n",
              "      <td>1130</td>\n",
              "    </tr>\n",
              "    <tr>\n",
              "      <th>17333</th>\n",
              "      <td>4</td>\n",
              "      <td>6</td>\n",
              "      <td>1</td>\n",
              "      <td>1</td>\n",
              "      <td>0</td>\n",
              "      <td>2.80</td>\n",
              "      <td>1210</td>\n",
              "    </tr>\n",
              "    <tr>\n",
              "      <th>17334</th>\n",
              "      <td>7</td>\n",
              "      <td>6</td>\n",
              "      <td>1</td>\n",
              "      <td>0</td>\n",
              "      <td>0</td>\n",
              "      <td>3.42</td>\n",
              "      <td>1000</td>\n",
              "    </tr>\n",
              "    <tr>\n",
              "      <th>17337</th>\n",
              "      <td>7</td>\n",
              "      <td>6</td>\n",
              "      <td>1</td>\n",
              "      <td>1</td>\n",
              "      <td>0</td>\n",
              "      <td>3.05</td>\n",
              "      <td>1130</td>\n",
              "    </tr>\n",
              "  </tbody>\n",
              "</table>\n",
              "<p>1528 rows × 7 columns</p>\n",
              "</div>\n",
              "    <div class=\"colab-df-buttons\">\n",
              "\n",
              "  <div class=\"colab-df-container\">\n",
              "    <button class=\"colab-df-convert\" onclick=\"convertToInteractive('df-463fa704-4731-4891-a763-28c7827cfa0d')\"\n",
              "            title=\"Convert this dataframe to an interactive table.\"\n",
              "            style=\"display:none;\">\n",
              "\n",
              "  <svg xmlns=\"http://www.w3.org/2000/svg\" height=\"24px\" viewBox=\"0 -960 960 960\">\n",
              "    <path d=\"M120-120v-720h720v720H120Zm60-500h600v-160H180v160Zm220 220h160v-160H400v160Zm0 220h160v-160H400v160ZM180-400h160v-160H180v160Zm440 0h160v-160H620v160ZM180-180h160v-160H180v160Zm440 0h160v-160H620v160Z\"/>\n",
              "  </svg>\n",
              "    </button>\n",
              "\n",
              "  <style>\n",
              "    .colab-df-container {\n",
              "      display:flex;\n",
              "      gap: 12px;\n",
              "    }\n",
              "\n",
              "    .colab-df-convert {\n",
              "      background-color: #E8F0FE;\n",
              "      border: none;\n",
              "      border-radius: 50%;\n",
              "      cursor: pointer;\n",
              "      display: none;\n",
              "      fill: #1967D2;\n",
              "      height: 32px;\n",
              "      padding: 0 0 0 0;\n",
              "      width: 32px;\n",
              "    }\n",
              "\n",
              "    .colab-df-convert:hover {\n",
              "      background-color: #E2EBFA;\n",
              "      box-shadow: 0px 1px 2px rgba(60, 64, 67, 0.3), 0px 1px 3px 1px rgba(60, 64, 67, 0.15);\n",
              "      fill: #174EA6;\n",
              "    }\n",
              "\n",
              "    .colab-df-buttons div {\n",
              "      margin-bottom: 4px;\n",
              "    }\n",
              "\n",
              "    [theme=dark] .colab-df-convert {\n",
              "      background-color: #3B4455;\n",
              "      fill: #D2E3FC;\n",
              "    }\n",
              "\n",
              "    [theme=dark] .colab-df-convert:hover {\n",
              "      background-color: #434B5C;\n",
              "      box-shadow: 0px 1px 3px 1px rgba(0, 0, 0, 0.15);\n",
              "      filter: drop-shadow(0px 1px 2px rgba(0, 0, 0, 0.3));\n",
              "      fill: #FFFFFF;\n",
              "    }\n",
              "  </style>\n",
              "\n",
              "    <script>\n",
              "      const buttonEl =\n",
              "        document.querySelector('#df-463fa704-4731-4891-a763-28c7827cfa0d button.colab-df-convert');\n",
              "      buttonEl.style.display =\n",
              "        google.colab.kernel.accessAllowed ? 'block' : 'none';\n",
              "\n",
              "      async function convertToInteractive(key) {\n",
              "        const element = document.querySelector('#df-463fa704-4731-4891-a763-28c7827cfa0d');\n",
              "        const dataTable =\n",
              "          await google.colab.kernel.invokeFunction('convertToInteractive',\n",
              "                                                    [key], {});\n",
              "        if (!dataTable) return;\n",
              "\n",
              "        const docLinkHtml = 'Like what you see? Visit the ' +\n",
              "          '<a target=\"_blank\" href=https://colab.research.google.com/notebooks/data_table.ipynb>data table notebook</a>'\n",
              "          + ' to learn more about interactive tables.';\n",
              "        element.innerHTML = '';\n",
              "        dataTable['output_type'] = 'display_data';\n",
              "        await google.colab.output.renderOutput(dataTable, element);\n",
              "        const docLink = document.createElement('div');\n",
              "        docLink.innerHTML = docLinkHtml;\n",
              "        element.appendChild(docLink);\n",
              "      }\n",
              "    </script>\n",
              "  </div>\n",
              "\n",
              "\n",
              "<div id=\"df-09fec444-a0cf-4038-8329-f451af38685c\">\n",
              "  <button class=\"colab-df-quickchart\" onclick=\"quickchart('df-09fec444-a0cf-4038-8329-f451af38685c')\"\n",
              "            title=\"Suggest charts\"\n",
              "            style=\"display:none;\">\n",
              "\n",
              "<svg xmlns=\"http://www.w3.org/2000/svg\" height=\"24px\"viewBox=\"0 0 24 24\"\n",
              "     width=\"24px\">\n",
              "    <g>\n",
              "        <path d=\"M19 3H5c-1.1 0-2 .9-2 2v14c0 1.1.9 2 2 2h14c1.1 0 2-.9 2-2V5c0-1.1-.9-2-2-2zM9 17H7v-7h2v7zm4 0h-2V7h2v10zm4 0h-2v-4h2v4z\"/>\n",
              "    </g>\n",
              "</svg>\n",
              "  </button>\n",
              "\n",
              "<style>\n",
              "  .colab-df-quickchart {\n",
              "      --bg-color: #E8F0FE;\n",
              "      --fill-color: #1967D2;\n",
              "      --hover-bg-color: #E2EBFA;\n",
              "      --hover-fill-color: #174EA6;\n",
              "      --disabled-fill-color: #AAA;\n",
              "      --disabled-bg-color: #DDD;\n",
              "  }\n",
              "\n",
              "  [theme=dark] .colab-df-quickchart {\n",
              "      --bg-color: #3B4455;\n",
              "      --fill-color: #D2E3FC;\n",
              "      --hover-bg-color: #434B5C;\n",
              "      --hover-fill-color: #FFFFFF;\n",
              "      --disabled-bg-color: #3B4455;\n",
              "      --disabled-fill-color: #666;\n",
              "  }\n",
              "\n",
              "  .colab-df-quickchart {\n",
              "    background-color: var(--bg-color);\n",
              "    border: none;\n",
              "    border-radius: 50%;\n",
              "    cursor: pointer;\n",
              "    display: none;\n",
              "    fill: var(--fill-color);\n",
              "    height: 32px;\n",
              "    padding: 0;\n",
              "    width: 32px;\n",
              "  }\n",
              "\n",
              "  .colab-df-quickchart:hover {\n",
              "    background-color: var(--hover-bg-color);\n",
              "    box-shadow: 0 1px 2px rgba(60, 64, 67, 0.3), 0 1px 3px 1px rgba(60, 64, 67, 0.15);\n",
              "    fill: var(--button-hover-fill-color);\n",
              "  }\n",
              "\n",
              "  .colab-df-quickchart-complete:disabled,\n",
              "  .colab-df-quickchart-complete:disabled:hover {\n",
              "    background-color: var(--disabled-bg-color);\n",
              "    fill: var(--disabled-fill-color);\n",
              "    box-shadow: none;\n",
              "  }\n",
              "\n",
              "  .colab-df-spinner {\n",
              "    border: 2px solid var(--fill-color);\n",
              "    border-color: transparent;\n",
              "    border-bottom-color: var(--fill-color);\n",
              "    animation:\n",
              "      spin 1s steps(1) infinite;\n",
              "  }\n",
              "\n",
              "  @keyframes spin {\n",
              "    0% {\n",
              "      border-color: transparent;\n",
              "      border-bottom-color: var(--fill-color);\n",
              "      border-left-color: var(--fill-color);\n",
              "    }\n",
              "    20% {\n",
              "      border-color: transparent;\n",
              "      border-left-color: var(--fill-color);\n",
              "      border-top-color: var(--fill-color);\n",
              "    }\n",
              "    30% {\n",
              "      border-color: transparent;\n",
              "      border-left-color: var(--fill-color);\n",
              "      border-top-color: var(--fill-color);\n",
              "      border-right-color: var(--fill-color);\n",
              "    }\n",
              "    40% {\n",
              "      border-color: transparent;\n",
              "      border-right-color: var(--fill-color);\n",
              "      border-top-color: var(--fill-color);\n",
              "    }\n",
              "    60% {\n",
              "      border-color: transparent;\n",
              "      border-right-color: var(--fill-color);\n",
              "    }\n",
              "    80% {\n",
              "      border-color: transparent;\n",
              "      border-right-color: var(--fill-color);\n",
              "      border-bottom-color: var(--fill-color);\n",
              "    }\n",
              "    90% {\n",
              "      border-color: transparent;\n",
              "      border-bottom-color: var(--fill-color);\n",
              "    }\n",
              "  }\n",
              "</style>\n",
              "\n",
              "  <script>\n",
              "    async function quickchart(key) {\n",
              "      const quickchartButtonEl =\n",
              "        document.querySelector('#' + key + ' button');\n",
              "      quickchartButtonEl.disabled = true;  // To prevent multiple clicks.\n",
              "      quickchartButtonEl.classList.add('colab-df-spinner');\n",
              "      try {\n",
              "        const charts = await google.colab.kernel.invokeFunction(\n",
              "            'suggestCharts', [key], {});\n",
              "      } catch (error) {\n",
              "        console.error('Error during call to suggestCharts:', error);\n",
              "      }\n",
              "      quickchartButtonEl.classList.remove('colab-df-spinner');\n",
              "      quickchartButtonEl.classList.add('colab-df-quickchart-complete');\n",
              "    }\n",
              "    (() => {\n",
              "      let quickchartButtonEl =\n",
              "        document.querySelector('#df-09fec444-a0cf-4038-8329-f451af38685c button');\n",
              "      quickchartButtonEl.style.display =\n",
              "        google.colab.kernel.accessAllowed ? 'block' : 'none';\n",
              "    })();\n",
              "  </script>\n",
              "</div>\n",
              "\n",
              "  <div id=\"id_607c4c19-8b1e-4fc2-b37f-839d8c1b1cf8\">\n",
              "    <style>\n",
              "      .colab-df-generate {\n",
              "        background-color: #E8F0FE;\n",
              "        border: none;\n",
              "        border-radius: 50%;\n",
              "        cursor: pointer;\n",
              "        display: none;\n",
              "        fill: #1967D2;\n",
              "        height: 32px;\n",
              "        padding: 0 0 0 0;\n",
              "        width: 32px;\n",
              "      }\n",
              "\n",
              "      .colab-df-generate:hover {\n",
              "        background-color: #E2EBFA;\n",
              "        box-shadow: 0px 1px 2px rgba(60, 64, 67, 0.3), 0px 1px 3px 1px rgba(60, 64, 67, 0.15);\n",
              "        fill: #174EA6;\n",
              "      }\n",
              "\n",
              "      [theme=dark] .colab-df-generate {\n",
              "        background-color: #3B4455;\n",
              "        fill: #D2E3FC;\n",
              "      }\n",
              "\n",
              "      [theme=dark] .colab-df-generate:hover {\n",
              "        background-color: #434B5C;\n",
              "        box-shadow: 0px 1px 3px 1px rgba(0, 0, 0, 0.15);\n",
              "        filter: drop-shadow(0px 1px 2px rgba(0, 0, 0, 0.3));\n",
              "        fill: #FFFFFF;\n",
              "      }\n",
              "    </style>\n",
              "    <button class=\"colab-df-generate\" onclick=\"generateWithVariable('XD')\"\n",
              "            title=\"Generate code using this dataframe.\"\n",
              "            style=\"display:none;\">\n",
              "\n",
              "  <svg xmlns=\"http://www.w3.org/2000/svg\" height=\"24px\"viewBox=\"0 0 24 24\"\n",
              "       width=\"24px\">\n",
              "    <path d=\"M7,19H8.4L18.45,9,17,7.55,7,17.6ZM5,21V16.75L18.45,3.32a2,2,0,0,1,2.83,0l1.4,1.43a1.91,1.91,0,0,1,.58,1.4,1.91,1.91,0,0,1-.58,1.4L9.25,21ZM18.45,9,17,7.55Zm-12,3A5.31,5.31,0,0,0,4.9,8.1,5.31,5.31,0,0,0,1,6.5,5.31,5.31,0,0,0,4.9,4.9,5.31,5.31,0,0,0,6.5,1,5.31,5.31,0,0,0,8.1,4.9,5.31,5.31,0,0,0,12,6.5,5.46,5.46,0,0,0,6.5,12Z\"/>\n",
              "  </svg>\n",
              "    </button>\n",
              "    <script>\n",
              "      (() => {\n",
              "      const buttonEl =\n",
              "        document.querySelector('#id_607c4c19-8b1e-4fc2-b37f-839d8c1b1cf8 button.colab-df-generate');\n",
              "      buttonEl.style.display =\n",
              "        google.colab.kernel.accessAllowed ? 'block' : 'none';\n",
              "\n",
              "      buttonEl.onclick = () => {\n",
              "        google.colab.notebook.generateWithVariable('XD');\n",
              "      }\n",
              "      })();\n",
              "    </script>\n",
              "  </div>\n",
              "\n",
              "    </div>\n",
              "  </div>\n"
            ],
            "application/vnd.google.colaboratory.intrinsic+json": {
              "type": "dataframe",
              "variable_name": "XD",
              "repr_error": "0"
            }
          },
          "metadata": {},
          "execution_count": 29
        }
      ]
    },
    {
      "cell_type": "markdown",
      "source": [
        "2. Se procede con la implementación del modelo"
      ],
      "metadata": {
        "id": "18LOA6u1uZ61"
      }
    },
    {
      "cell_type": "code",
      "source": [
        "mar=DecisionTreeClassifier(criterion='gini', max_depth=4)\n",
        "mar.fit(XD,yd)\n",
        "\n",
        "#Se procede con la gráfica\n",
        "from pydotplus import graph_from_dot_data #Crea la gráfica\n",
        "from sklearn.tree import export_graphviz #Lo exporta a PNG, JPEG, TIFF\n",
        "\n",
        "ve=['Edu_Parent1', 'Edu_Parent2', 'Gender', 'White', 'Asian','HSGPA', 'SAT/ACT']\n",
        "dot_data=export_graphviz(mar, feature_names=ve) #Crear el gráfico\n",
        "graph=graph_from_dot_data(dot_data)\n",
        "graph.write_png('ArbolDecisionCollegeAdmisions.png')"
      ],
      "metadata": {
        "colab": {
          "base_uri": "https://localhost:8080/"
        },
        "id": "0XVhyLrisOnM",
        "outputId": "fa689de6-e03b-4bc3-cb4c-6df19a0a2be6"
      },
      "execution_count": null,
      "outputs": [
        {
          "output_type": "execute_result",
          "data": {
            "text/plain": [
              "True"
            ]
          },
          "metadata": {},
          "execution_count": 32
        }
      ]
    },
    {
      "cell_type": "markdown",
      "source": [
        "**Descripción de los datos:**\n",
        "\n",
        "De acuerdo con la base de datos de College Admisions, esta posee un total de 17339 datos totales divididos en 1303 admitidos y 225 no admitidos. Cada uno de los aplicantes estará descrito en función de 7 variables socieconómicas:\n",
        "\n",
        "•\tEdu_Parent1 y Edu_Parent2: Nivel educativo alcanzado por cada uno de los padres o tutores del estudiante.\n",
        "\n",
        "•\tGender: Género del estudiante (Masculino o Femenino).\n",
        "\n",
        "•\tWhite: Variable que indica si un estudiante es identificado como blanco en el contexto social.\n",
        "\n",
        "•\tAsian: Variable que indica si un estudiante es identificado como asiático.\n",
        "\n",
        "•\tHSGPA (High School GPA): Variable que indica el promedio de calificaciones del estudiante en la secundaria en una escala de 0 a 5.\n",
        "\n",
        "•\tSAT/ACT: Variable que indica el puntaje obtenido en los exámenes estandarizados SAT o ACT en EEUU.\n",
        "\n",
        "\n",
        "\n",
        "\n",
        "\n",
        "\n",
        "\n"
      ],
      "metadata": {
        "id": "ZPDk3coy3lxo"
      }
    },
    {
      "cell_type": "markdown",
      "source": [
        "3. Se procede a saber el número de personas Admitidas y No Admitidas"
      ],
      "metadata": {
        "id": "Epp45jpUwfav"
      }
    },
    {
      "cell_type": "code",
      "source": [
        "# Asumiendo que 'XDB' es tu DataFrame y 'Admitted' es la columna que indica la admisión\n",
        "admitidos_counts = XDB['Admitted'].value_counts()\n",
        "\n",
        "# Imprimir los resultados\n",
        "print(admitidos_counts)"
      ],
      "metadata": {
        "colab": {
          "base_uri": "https://localhost:8080/"
        },
        "id": "tZXzKecRyVqd",
        "outputId": "4d2b6b53-2068-43ca-c278-b30e75356ced"
      },
      "execution_count": null,
      "outputs": [
        {
          "output_type": "stream",
          "name": "stdout",
          "text": [
            "Admitted\n",
            "Yes    1303\n",
            "No      225\n",
            "Name: count, dtype: int64\n"
          ]
        }
      ]
    },
    {
      "cell_type": "markdown",
      "source": [
        "4. Evaluar el comportamiento del modelo"
      ],
      "metadata": {
        "id": "kIDWuhTGyZeT"
      }
    },
    {
      "cell_type": "code",
      "source": [
        "ydp=mar.predict(XD) #Pronóstico sobre la base de datos original\n",
        "cm=confusion_matrix(yd, ydp)\n",
        "print(\"La matriz de confusión es: \\n\", cm)\n",
        "\n",
        "VN=cm[0,0]; FP=cm[0,1];FN=cm[1,0]; VP=cm[1,1]\n",
        "\n",
        "Exactitud=(VP+VN)/(VP+VN+FP+FN)\n",
        "Sensibilidad=VP/(VP+FN)\n",
        "Especificidad=VN/(VN+FP)\n",
        "Precision=VP/(VP+FP)\n",
        "TasaError=(FP+FN)/(VP+VN+FP+FN)\n",
        "PredNeg=VN/(VN+FN)\n",
        "\n",
        "print(\"La exactitud es: \", Exactitud)\n",
        "print(\"La sensibilidad es: \", Sensibilidad)\n",
        "print(\"La especificidad es: \", Especificidad)\n",
        "print(\"La precision es: \", Precision)\n",
        "print(\"La tasa de error es: \", TasaError)\n",
        "print(\"La presición negativa es:\", PredNeg)"
      ],
      "metadata": {
        "colab": {
          "base_uri": "https://localhost:8080/"
        },
        "id": "q212PX-Syu35",
        "outputId": "0e80db13-c825-4ef5-9ce5-dcfc2e12ac83"
      },
      "execution_count": null,
      "outputs": [
        {
          "output_type": "stream",
          "name": "stdout",
          "text": [
            "La matriz de confusión es: \n",
            " [[  20  205]\n",
            " [   2 1301]]\n",
            "La exactitud es:  0.8645287958115183\n",
            "La sensibilidad es:  0.9984650805832693\n",
            "La especificidad es:  0.08888888888888889\n",
            "La precision es:  0.8638778220451527\n",
            "La tasa de error es:  0.1354712041884817\n",
            "La presición negativa es: 0.9090909090909091\n"
          ]
        }
      ]
    },
    {
      "cell_type": "markdown",
      "source": [
        "**Análisis de resultados**\n",
        "\n",
        "La matriz de confusión muestra una predominancia por los valores Verdaderos Positivos (1301) y los valores Falsos Positivos (205), esto hizo que el modelo alcanzara una alta sensibilidad (99.84%) y una buena precisión (86.38%), lo que indica un buen desempeño en la identificación de los casos positivos.\n",
        "Con respecto a la clasificación de los casos negativos, la base de datos mostró un total de 225 muestras negativas, de las cuales 20 fueron correctamente clasificadas como negativas y 205 fueron clasificadas incorrectamente como positivas. Se destaca que la especificidad fue considerablemente baja (8.89%), lo que indica que el modelo tiene dificultades para identificar correctamente los casos negativos, además, en el análisis del modelo se encontraron 7 nodos puros, lo que sugiere que ciertas reglas de decisión están bien definidas en algunos segmentos del conjunto de datos.\n",
        "\n",
        "De acuerdo con los índices obtenidos, el modelo muestra un mejor comportamiento frente a la sensibilidad, mientras que la especificidad es baja en comparación, por lo cual, es importante destacar la necesidad de ajustar parámetros o estrategias para mejorar la clasificación de los casos negativos sin afectar significativamente la capacidad de detección de los positivos.\n"
      ],
      "metadata": {
        "id": "WEmpd3ro907O"
      }
    },
    {
      "cell_type": "markdown",
      "source": [
        "4. Informe en excel"
      ],
      "metadata": {
        "id": "Q4wvMSuvzS93"
      }
    },
    {
      "cell_type": "code",
      "source": [
        "import pandas as pd\n",
        "from sklearn.tree import DecisionTreeClassifier\n",
        "\n",
        "# ... (código anterior para cargar datos y entrenar el modelo) ...\n",
        "\n",
        "# 1. Cargar la hoja 1 del archivo de Excel\n",
        "nxl = '/content/drive/MyDrive/2. CollegeAdmisions_Int_M.xlsx'\n",
        "hoja1_df = pd.read_excel(nxl, sheet_name=1)  # Cargar la hoja 1\n",
        "\n",
        "# 2. Seleccionar las variables para el pronóstico\n",
        "XD_hoja1 = hoja1_df[['Edu_Parent1', 'Edu_Parent2', 'Gender', 'White', 'Asian', 'HSGPA', 'SAT/ACT']]\n",
        "XD_hoja1.loc[:, 'Gender'] = XD_hoja1['Gender'].map({'F': 0, 'M': 1})\n",
        "\n",
        "# 3. Realizar el pronóstico\n",
        "pronóstico_hoja1 = mar.predict(XD_hoja1)\n",
        "\n",
        "# 4. Agregar el pronóstico al DataFrame de la hoja 1\n",
        "hoja1_df['Pronóstico'] = pronóstico_hoja1\n",
        "\n",
        "# 5. Guardar el DataFrame con el pronóstico en un nuevo archivo de Excel\n",
        "hoja1_df.to_excel('Pronóstico_Admisiones_Hoja1.xlsx', index=False)\n",
        "\n",
        "print(\"Pronóstico generado y guardado en 'Pronóstico_Admisiones_Hoja1.xlsx'\")"
      ],
      "metadata": {
        "colab": {
          "base_uri": "https://localhost:8080/"
        },
        "id": "lIoQ4jdp1rTq",
        "outputId": "642c4280-5ebb-4a99-c326-d578f4270b6f"
      },
      "execution_count": null,
      "outputs": [
        {
          "output_type": "stream",
          "name": "stdout",
          "text": [
            "Pronóstico generado y guardado en 'Pronóstico_Admisiones_Hoja1.xlsx'\n"
          ]
        }
      ]
    }
  ]
}